{
 "cells": [
  {
   "cell_type": "code",
   "execution_count": null,
   "id": "77dd300b",
   "metadata": {},
   "outputs": [],
   "source": [
    "# Import necessary libraries\n",
    "import pandas as pd\n",
    "import numpy as np\n",
    "from sklearn.model_selection import train_test_split, StratifiedKFold, GridSearchCV\n",
    "from sklearn.preprocessing import StandardScaler\n",
    "from sklearn.neighbors import KNeighborsRegressor\n",
    "from sklearn.pipeline import Pipeline"
   ]
  },
  {
   "cell_type": "code",
   "execution_count": null,
   "id": "5db199ae",
   "metadata": {},
   "outputs": [],
   "source": [
    "\n",
    "# Load the dataset\n",
    "location = r\"C:\\Users\\sanke\\OneDrive\\Desktop\\ml\\cars.csv\"\n",
    "df = pd.read_csv(location)\n",
    "df.head()\n",
    "\n",
    "# clean the dataset\n",
    "# Drop non-numeric or non-model-relevant columns\n",
    "df.drop(columns=['Unnamed: 0'], inplace=True)\n",
    "df.info()\n",
    "\n",
    "# Define features and target\n",
    "X = df.drop(columns='mpg')\n",
    "y = df['mpg']\n",
    "\n",
    "# Bin target variable for stratification in regression tasks\n",
    "y_binned = pd.qcut(y, q=5, labels=False)\n"
   ]
  },
  {
   "cell_type": "code",
   "execution_count": 3,
   "id": "6e6e00d7",
   "metadata": {},
   "outputs": [],
   "source": [
    "# Define pipeline with fixed k\n",
    "pipeline = Pipeline([\n",
    "    ('scaler', StandardScaler()),\n",
    "    ('knn', KNeighborsRegressor(n_neighbors=5))  # You can change k\n",
    "])"
   ]
  },
  {
   "cell_type": "code",
   "execution_count": null,
   "id": "aa300f21",
   "metadata": {},
   "outputs": [],
   "source": [
    "# K-Fold cross-validation (manual)\n",
    "from sklearn.model_selection import cross_val_score\n",
    "from sklearn.model_selection import StratifiedKFold"
   ]
  },
  {
   "cell_type": "code",
   "execution_count": 5,
   "id": "a80d9a0f",
   "metadata": {},
   "outputs": [],
   "source": [
    "# Stratified binning for regression\n",
    "y_binned = pd.qcut(y, q=5, labels=False)\n",
    "skf = StratifiedKFold(n_splits=5, shuffle=True, random_state=42)\n",
    "cv_scores = cross_val_score(pipeline, X, y, cv=skf.split(X, y_binned), scoring='r2')"
   ]
  },
  {
   "cell_type": "code",
   "execution_count": 6,
   "id": "fd78b5c0",
   "metadata": {},
   "outputs": [
    {
     "name": "stdout",
     "output_type": "stream",
     "text": [
      "Mean CV R² Score: 0.6714839744568809\n"
     ]
    }
   ],
   "source": [
    "print(\"Mean CV R² Score:\", np.mean(cv_scores))"
   ]
  },
  {
   "cell_type": "code",
   "execution_count": 7,
   "id": "ad760939",
   "metadata": {},
   "outputs": [
    {
     "name": "stdout",
     "output_type": "stream",
     "text": [
      "Final Test R² Score: 0.778530435581507\n"
     ]
    }
   ],
   "source": [
    "# Final Train-Test split and evaluation\n",
    "X_train, X_test, y_train, y_test = train_test_split(X, y, test_size=0.2, random_state=42)\n",
    "pipeline.fit(X_train, y_train)\n",
    "test_score = pipeline.score(X_test, y_test)\n",
    "print(\"Final Test R² Score:\", test_score)"
   ]
  },
  {
   "cell_type": "code",
   "execution_count": null,
   "id": "e2c67293",
   "metadata": {},
   "outputs": [],
   "source": []
  }
 ],
 "metadata": {
  "kernelspec": {
   "display_name": "Python 3",
   "language": "python",
   "name": "python3"
  },
  "language_info": {
   "codemirror_mode": {
    "name": "ipython",
    "version": 3
   },
   "file_extension": ".py",
   "mimetype": "text/x-python",
   "name": "python",
   "nbconvert_exporter": "python",
   "pygments_lexer": "ipython3",
   "version": "3.8.10"
  }
 },
 "nbformat": 4,
 "nbformat_minor": 5
}

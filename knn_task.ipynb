{
 "cells": [
  {
   "cell_type": "code",
   "execution_count": null,
   "id": "2e1860a2",
   "metadata": {},
   "outputs": [],
   "source": [
    "import pandas as pd\n",
    "import numpy as np\n",
    "from sklearn.model_selection import train_test_split, KFold, cross_val_score\n",
    "from sklearn.preprocessing import StandardScaler\n",
    "from sklearn.neighbors import KNeighborsRegressor"
   ]
  },
  {
   "cell_type": "code",
   "execution_count": null,
   "id": "0749560c",
   "metadata": {},
   "outputs": [],
   "source": [
    "\n",
    "location = r\"C:\\Users\\sanke\\OneDrive\\Desktop\\ml\\cars.csv\"\n",
    "# Load data\n",
    "df = pd.read_csv(location)"
   ]
  },
  {
   "cell_type": "code",
   "execution_count": 12,
   "id": "5b86eb2f",
   "metadata": {},
   "outputs": [
    {
     "name": "stdout",
     "output_type": "stream",
     "text": [
      "Data shape: (32, 12)\n",
      "Missing values:\n",
      " Unnamed: 0    0\n",
      "mpg           0\n",
      "cyl           0\n",
      "disp          0\n",
      "hp            0\n",
      "drat          0\n",
      "wt            0\n",
      "qsec          0\n",
      "vs            0\n",
      "am            0\n",
      "gear          0\n",
      "carb          0\n",
      "dtype: int64\n",
      "Data types:\n",
      " Unnamed: 0     object\n",
      "mpg           float64\n",
      "cyl             int64\n",
      "disp          float64\n",
      "hp              int64\n",
      "drat          float64\n",
      "wt            float64\n",
      "qsec          float64\n",
      "vs              int64\n",
      "am              int64\n",
      "gear            int64\n",
      "carb            int64\n",
      "dtype: object\n"
     ]
    }
   ],
   "source": [
    "#  Data cleaning \n",
    "print(\"Data shape:\", df.shape)\n",
    "print(\"Missing values:\\n\", df.isnull().sum())\n",
    "print(\"Data types:\\n\", df.dtypes)\n",
    "df = df.dropna()\n"
   ]
  },
  {
   "cell_type": "code",
   "execution_count": 13,
   "id": "2a245803",
   "metadata": {},
   "outputs": [],
   "source": [
    "# 3. Feature/target split\n",
    "X = df[['cyl','disp','hp','drat','wt','qsec','vs','am','gear','carb']]\n",
    "y = df['mpg']"
   ]
  },
  {
   "cell_type": "code",
   "execution_count": null,
   "id": "d712212f",
   "metadata": {},
   "outputs": [],
   "source": [
    "# 4. Train-test split\n",
    "X_train, X_test, y_train, y_test = train_test_split(X, y, test_size=0.2, random_state=42) # 80:20 Data split"
   ]
  },
  {
   "cell_type": "code",
   "execution_count": 36,
   "id": "afcd0ad1",
   "metadata": {},
   "outputs": [],
   "source": [
    "# Scaling\n",
    "sclr = StandardScaler()\n",
    "X_train_sclr = sclr.fit_transform(X_train)\n",
    "X_test_sclr = sclr.transform(X_test)"
   ]
  },
  {
   "cell_type": "code",
   "execution_count": 37,
   "id": "d7581b00",
   "metadata": {},
   "outputs": [],
   "source": [
    "\n",
    "# Model selection\n",
    "knn = KNeighborsRegressor(n_neighbors=5)"
   ]
  },
  {
   "cell_type": "code",
   "execution_count": 39,
   "id": "1ecf75d1",
   "metadata": {},
   "outputs": [],
   "source": [
    "# K-Fold cross-validation\n",
    "kf = KFold(n_splits=5, shuffle=True, random_state=42)\n",
    "cv_scores = cross_val_score(knn, X_train_sclr, y_train, cv=kf, scoring='neg_mean_squared_error')"
   ]
  },
  {
   "cell_type": "code",
   "execution_count": 40,
   "id": "ccf226e9",
   "metadata": {},
   "outputs": [
    {
     "name": "stdout",
     "output_type": "stream",
     "text": [
      "K-Fold Negative MSE scores: [-32.40656  -3.52856  -4.21912 -21.38832  -8.72392]\n",
      "Mean Negative MSE: -14.053295999999994\n"
     ]
    }
   ],
   "source": [
    "print(\"K-Fold Negative MSE scores:\", cv_scores)\n",
    "print(\"Mean Negative MSE:\", cv_scores.mean())"
   ]
  },
  {
   "cell_type": "code",
   "execution_count": 42,
   "id": "12991ff7",
   "metadata": {},
   "outputs": [
    {
     "name": "stdout",
     "output_type": "stream",
     "text": [
      "Test R^2 Score: 0.778530435581507\n"
     ]
    }
   ],
   "source": [
    "\n",
    "#  Fit and evaluate on test set\n",
    "knn.fit(X_train_sclr, y_train)\n",
    "test_score = knn.score(X_test_sclr, y_test)\n",
    "print(\"Test R^2 Score:\", test_score)"
   ]
  }
 ],
 "metadata": {
  "kernelspec": {
   "display_name": "Python 3",
   "language": "python",
   "name": "python3"
  },
  "language_info": {
   "codemirror_mode": {
    "name": "ipython",
    "version": 3
   },
   "file_extension": ".py",
   "mimetype": "text/x-python",
   "name": "python",
   "nbconvert_exporter": "python",
   "pygments_lexer": "ipython3",
   "version": "3.8.10"
  }
 },
 "nbformat": 4,
 "nbformat_minor": 5
}
